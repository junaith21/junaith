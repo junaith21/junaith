{
  "nbformat": 4,
  "nbformat_minor": 0,
  "metadata": {
    "colab": {
      "name": "Untitled12.ipynb",
      "provenance": [],
      "authorship_tag": "ABX9TyMubLrlzI6tA4OHGzbSBgUB",
      "include_colab_link": true
    },
    "kernelspec": {
      "name": "python3",
      "display_name": "Python 3"
    },
    "language_info": {
      "name": "python"
    }
  },
  "cells": [
    {
      "cell_type": "markdown",
      "metadata": {
        "id": "view-in-github",
        "colab_type": "text"
      },
      "source": [
        "<a href=\"https://colab.research.google.com/github/junaith21/junaith/blob/main/Untitled12.ipynb\" target=\"_parent\"><img src=\"https://colab.research.google.com/assets/colab-badge.svg\" alt=\"Open In Colab\"/></a>"
      ]
    },
    {
      "cell_type": "code",
      "execution_count": null,
      "metadata": {
        "colab": {
          "base_uri": "https://localhost:8080/"
        },
        "id": "sDv_x7KJNmIs",
        "outputId": "88216af6-81c8-47e4-bb83-7ab5eb447bee"
      },
      "outputs": [
        {
          "name": "stdout",
          "output_type": "stream",
          "text": [
            "Choice 1: Add, 2: Sub, 3: Div, 4: Mul, 5: Quit\n",
            "Enter the choice of operartion: 21\n"
          ]
        }
      ],
      "source": [
        "#Arithmetic operations\n",
        "print(\"Choice 1: Add, 2: Sub, 3: Div, 4: Mul, 5: Quit\")\n",
        "n1=input(\"Enter the choice of operartion: \")\n",
        "n=int(n1)\n",
        "if(n==1):\n",
        "  print(\"You have choosen addition Option: \")\n",
        "  a1=input(\"Enter the value for A: \")\n",
        "  b1=input(\"Enter the value for B: \")\n",
        "  a=int(a1)\n",
        "  b=int(b1)\n",
        "  c=a+b\n",
        "  print(\"The Result\",a,\"+\",b,\"=\",c)\n",
        "elif(n==2):\n",
        "  print(\"You have choosen subtraction option:\")\n",
        "  a1=input(\"Enter the value for A: \")\n",
        "  b1=input(\"Enter the value for B: \")\n",
        "  a=int(a1)\n",
        "  b=int(b1)\n",
        "  c=a-b\n",
        "  print(\"The Result\",a,\"-\",b,\"=\",c)\n",
        "elif(n==3):\n",
        "  print(\"You have chosen division option: \")\n",
        "  a1=input(\"Enter the value for A: \")\n",
        "  b1=input(\"Enter the value for B: \")\n",
        "  a=int(a1)\n",
        "  b=int(b1)\n",
        "  c=a/b\n",
        "  print(\"The result\",a,\"/\",b,\"=\",c)\n",
        "elif(n==4):\n",
        "  print(\"You have chosen multiplication option: \")\n",
        "  a1=input(\"Enter the value for A: \")\n",
        "  b1=input(\"Enter the value for B: \")\n",
        "  a=int(a1)\n",
        "  b=int(b1)\n",
        "  c=a/b\n",
        "  print(\"The result\",a,\"*\",b,\"=\",c)\n",
        "elif(n==5):\n",
        "  print(\"You have given a wrong: \",n)\n",
        "  exit()"
      ]
    },
    {
      "cell_type": "code",
      "source": [
        "#boolean expression\n",
        "a=True\n",
        "b=False\n",
        "print('a= ',a,'b= ',b)\n",
        "a=False;\n",
        "print('a= ',a,'b= ',b)"
      ],
      "metadata": {
        "colab": {
          "base_uri": "https://localhost:8080/"
        },
        "id": "70cKaiH9N23M",
        "outputId": "a29b6348-3437-4201-f80d-a55756b2b453"
      },
      "execution_count": null,
      "outputs": [
        {
          "output_type": "stream",
          "name": "stdout",
          "text": [
            "a=  True b=  False\n",
            "a=  False b=  False\n"
          ]
        }
      ]
    },
    {
      "cell_type": "code",
      "source": [
        "#nested loop\n",
        "print(\"     1  2  3  4  5  6  7  8  9  10\")\n",
        "print(\"    <---------------------------->\")\n",
        "for row in range(1,11):\n",
        "  if row<10:\n",
        "    print(\" \",end=\" \")\n",
        "    for column in range(1,11):\n",
        "      product=row*column;\n",
        "      if product<100:\n",
        "        print(end=\" \")\n",
        "      if product<10:\n",
        "        print(end=\" \")\n",
        "      print(product,end=\" \")\n",
        "    print()"
      ],
      "metadata": {
        "colab": {
          "base_uri": "https://localhost:8080/"
        },
        "id": "fbTBStmkN892",
        "outputId": "188f639c-5082-4b66-e3e8-7bf4dba0e7c0"
      },
      "execution_count": null,
      "outputs": [
        {
          "output_type": "stream",
          "name": "stdout",
          "text": [
            "     1  2  3  4  5  6  7  8  9  10\n",
            "    <---------------------------->\n",
            "    1   2   3   4   5   6   7   8   9  10 \n",
            "    2   4   6   8  10  12  14  16  18  20 \n",
            "    3   6   9  12  15  18  21  24  27  30 \n",
            "    4   8  12  16  20  24  28  32  36  40 \n",
            "    5  10  15  20  25  30  35  40  45  50 \n",
            "    6  12  18  24  30  36  42  48  54  60 \n",
            "    7  14  21  28  35  42  49  56  63  70 \n",
            "    8  16  24  32  40  48  56  64  72  80 \n",
            "    9  18  27  36  45  54  63  72  81  90 \n"
          ]
        }
      ]
    },
    {
      "cell_type": "markdown",
      "source": [
        ""
      ],
      "metadata": {
        "id": "HnHuYe6yPZ9G"
      }
    },
    {
      "cell_type": "code",
      "source": [
        "#while\n",
        "entry=0\n",
        "sum=0\n",
        "print(\"Enter numbers to sum, negative number ends list: \")\n",
        "while entry >=0:\n",
        "  entry =eval(input())\n",
        "  if entry >=0:\n",
        "    sum+=entry\n",
        "print(\"sum=\",sum)"
      ],
      "metadata": {
        "colab": {
          "base_uri": "https://localhost:8080/"
        },
        "id": "OOQeIR7zOacq",
        "outputId": "4fc9ff70-0cd2-4500-cd38-b01e3d73212a"
      },
      "execution_count": null,
      "outputs": [
        {
          "output_type": "stream",
          "name": "stdout",
          "text": [
            "Enter numbers to sum, negative number ends list: \n",
            "40\n",
            "50\n",
            "60\n",
            "-15\n",
            "sum= 150\n"
          ]
        }
      ]
    },
    {
      "cell_type": "code",
      "source": [
        "#elif statement\n",
        "value=eval(input(\"Please enter an integer in the range 0....5: \"))\n",
        "if value<0:\n",
        "  print(\"Too small\")\n",
        "else:\n",
        "  if value ==0:\n",
        "    print(\"zero\")\n",
        "  else:\n",
        "    if value==1:\n",
        "      print(\"one\")\n",
        "    else:\n",
        "      if value ==2:\n",
        "        print(\"two\")\n",
        "      else:\n",
        "        if value==3:\n",
        "          print(\"three\")\n",
        "        else:\n",
        "          if value==4:\n",
        "            print(\"four\")\n",
        "          else:\n",
        "            if value==5:\n",
        "              print(\"five\")\n",
        "            else:\n",
        "              print(\"too large\")\n",
        "  print(\"done\")"
      ],
      "metadata": {
        "id": "QRYn2JBUOkrh"
      },
      "execution_count": null,
      "outputs": []
    },
    {
      "cell_type": "code",
      "source": [
        "Number=25\n",
        "Name=\"Kiran\"\n",
        "B=3.5\n",
        "print(Number)\n",
        "print(Name)\n",
        "print(B)"
      ],
      "metadata": {
        "colab": {
          "base_uri": "https://localhost:8080/"
        },
        "id": "beiH3a8bmNAh",
        "outputId": "2c1f39d5-8a45-4c7b-b0b4-e73bcbc71a80"
      },
      "execution_count": 1,
      "outputs": [
        {
          "output_type": "stream",
          "name": "stdout",
          "text": [
            "25\n",
            "Kiran\n",
            "3.5\n"
          ]
        }
      ]
    },
    {
      "cell_type": "code",
      "source": [
        "#Redeclare a variable\n",
        "Name=\"Python\"\n",
        "print(Name)"
      ],
      "metadata": {
        "colab": {
          "base_uri": "https://localhost:8080/"
        },
        "id": "rEMbmkhMnfDF",
        "outputId": "70893d88-dde6-4704-a5b4-84ada8955a1a"
      },
      "execution_count": 2,
      "outputs": [
        {
          "output_type": "stream",
          "name": "stdout",
          "text": [
            "Python\n"
          ]
        }
      ]
    },
    {
      "cell_type": "code",
      "source": [
        "#Multiple assignment\n",
        "x=y=z=\"SoftwareTestingHelp\"\n",
        "print(x)\n",
        "print(y)\n",
        "print(z)\n",
        "a,b,c=5,3.2,\"Hello\"\n",
        "print(a)\n",
        "print(b)\n",
        "print(c)"
      ],
      "metadata": {
        "colab": {
          "base_uri": "https://localhost:8080/"
        },
        "id": "mf680G19mNEJ",
        "outputId": "6a248fe2-7341-41c0-929c-7fc9e5290944"
      },
      "execution_count": 3,
      "outputs": [
        {
          "output_type": "stream",
          "name": "stdout",
          "text": [
            "SoftwareTestingHelp\n",
            "SoftwareTestingHelp\n",
            "SoftwareTestingHelp\n",
            "5\n",
            "3.2\n",
            "Hello\n"
          ]
        }
      ]
    },
    {
      "cell_type": "code",
      "source": [
        "#Numbers\n",
        "a=5\n",
        "print(a,\"is of type\",type(a))"
      ],
      "metadata": {
        "colab": {
          "base_uri": "https://localhost:8080/"
        },
        "id": "eOAt6Tp9nstl",
        "outputId": "06fd5594-a2ca-4bdc-8b1e-ef8facaec033"
      },
      "execution_count": 4,
      "outputs": [
        {
          "output_type": "stream",
          "name": "stdout",
          "text": [
            "5 is of type <class 'int'>\n"
          ]
        }
      ]
    },
    {
      "cell_type": "code",
      "source": [
        "#String\n",
        "String1=\"Welcome\"\n",
        "String2=\"To python\"\n",
        "print(String1+String2)\n",
        "#slicing\n",
        "print(String1[2:5])"
      ],
      "metadata": {
        "colab": {
          "base_uri": "https://localhost:8080/"
        },
        "id": "7LEpfRjSnvBU",
        "outputId": "4d72fc81-8bc8-42de-ea34-b77134a370e7"
      },
      "execution_count": 5,
      "outputs": [
        {
          "output_type": "stream",
          "name": "stdout",
          "text": [
            "WelcomeTo python\n",
            "lco\n"
          ]
        }
      ]
    },
    {
      "cell_type": "code",
      "source": [
        "#List\n",
        "List=[2,4,5,5,\"Hi\"]\n",
        "print(\"List[2]\",List[2])"
      ],
      "metadata": {
        "colab": {
          "base_uri": "https://localhost:8080/"
        },
        "id": "ythz9u0anzY2",
        "outputId": "c7421474-f51b-4334-d0d1-23af7592baf5"
      },
      "execution_count": 6,
      "outputs": [
        {
          "output_type": "stream",
          "name": "stdout",
          "text": [
            "List[2] 5\n"
          ]
        }
      ]
    },
    {
      "cell_type": "code",
      "source": [
        "#Tuple\n",
        "Tuple=(50,15,25.6,\"Python\")\n",
        "print(\"Tuple[1]=\",Tuple[1])"
      ],
      "metadata": {
        "colab": {
          "base_uri": "https://localhost:8080/"
        },
        "id": "5y0yPENNn3e1",
        "outputId": "5a45fc04-91ed-45d0-e4cc-22505145e6b2"
      },
      "execution_count": 7,
      "outputs": [
        {
          "output_type": "stream",
          "name": "stdout",
          "text": [
            "Tuple[1]= 15\n"
          ]
        }
      ]
    },
    {
      "cell_type": "code",
      "source": [
        "#Set\n",
        "Set={5,1,2.6,\"python\"}\n",
        "print(Set)"
      ],
      "metadata": {
        "colab": {
          "base_uri": "https://localhost:8080/"
        },
        "id": "zqS3SBfcn8He",
        "outputId": "3a292741-3673-4622-f3b9-1acb658d9bdf"
      },
      "execution_count": 8,
      "outputs": [
        {
          "output_type": "stream",
          "name": "stdout",
          "text": [
            "{1, 2.6, 5, 'python'}\n"
          ]
        }
      ]
    },
    {
      "cell_type": "code",
      "source": [
        "#Dictionary\n",
        "Dict={1:'Hi',2:7.5,3:'Class'}\n",
        "print(Dict)"
      ],
      "metadata": {
        "colab": {
          "base_uri": "https://localhost:8080/"
        },
        "id": "md8QpieBoCMv",
        "outputId": "a326f704-c315-46fa-88f4-5cb006e9ee7c"
      },
      "execution_count": 9,
      "outputs": [
        {
          "output_type": "stream",
          "name": "stdout",
          "text": [
            "{1: 'Hi', 2: 7.5, 3: 'Class'}\n"
          ]
        }
      ]
    },
    {
      "cell_type": "code",
      "source": [
        "#Arithmetic operators\n",
        "x=15\n",
        "y=10\n",
        "print('x+y=',x+y)\n",
        "print('x-y=',x-y)\n",
        "print('x*y=',x*y)\n",
        "print('x/y=',x/y)\n",
        "print('x//y=',x//y)"
      ],
      "metadata": {
        "colab": {
          "base_uri": "https://localhost:8080/"
        },
        "id": "buY8PTTSoG2f",
        "outputId": "5e4cb487-eec5-45b8-e55c-ffed5649c6d2"
      },
      "execution_count": 10,
      "outputs": [
        {
          "output_type": "stream",
          "name": "stdout",
          "text": [
            "x+y= 25\n",
            "x-y= 5\n",
            "x*y= 150\n",
            "x/y= 1.5\n",
            "x//y= 1\n"
          ]
        }
      ]
    },
    {
      "cell_type": "code",
      "source": [
        "#comparison Operators\n",
        "x=8\n",
        "y=15\n",
        "print('x>y is',x>y)\n",
        "print('x<y is',x<y)\n",
        "print('x==y is',x==y)\n",
        "print('x!=y is',x!=y)\n",
        "print('x>=y is',x>=y)\n",
        "print('x<=y is',x<=y)"
      ],
      "metadata": {
        "colab": {
          "base_uri": "https://localhost:8080/"
        },
        "id": "mQ8BDDaeoMm2",
        "outputId": "47fc3ba0-4b0c-44d4-f7e2-c5086a7efe08"
      },
      "execution_count": 11,
      "outputs": [
        {
          "output_type": "stream",
          "name": "stdout",
          "text": [
            "x>y is False\n",
            "x<y is True\n",
            "x==y is False\n",
            "x!=y is True\n",
            "x>=y is False\n",
            "x<=y is True\n"
          ]
        }
      ]
    },
    {
      "cell_type": "code",
      "source": [
        "#logical operators\n",
        "a=True\n",
        "b=False\n",
        "print('a and b is',a and b)\n",
        "print('a or b is',a and b)\n",
        "print('a not b is',a and b)"
      ],
      "metadata": {
        "colab": {
          "base_uri": "https://localhost:8080/"
        },
        "id": "WmWOA5GjuTBa",
        "outputId": "1fa50e9c-5850-4e66-e9b6-d1baafafd52e"
      },
      "execution_count": 12,
      "outputs": [
        {
          "output_type": "stream",
          "name": "stdout",
          "text": [
            "a and b is False\n",
            "a or b is False\n",
            "a not b is False\n"
          ]
        }
      ]
    },
    {
      "cell_type": "code",
      "source": [
        "#identity operator\n",
        "a1=3\n",
        "b1=3\n",
        "a2=\"Python\"\n",
        "b2=\"Python\"\n",
        "a3=[4,5,6]\n",
        "b3=[4,5,6]\n",
        "print(a1 is not b1)\n",
        "print(a2 is b2)\n",
        "print(a3 is b3)"
      ],
      "metadata": {
        "colab": {
          "base_uri": "https://localhost:8080/"
        },
        "id": "P9I4wufOuxSu",
        "outputId": "1c2d4f9b-3e31-4cd4-a4e8-9842f20ed2be"
      },
      "execution_count": 13,
      "outputs": [
        {
          "output_type": "stream",
          "name": "stdout",
          "text": [
            "False\n",
            "True\n",
            "False\n"
          ]
        }
      ]
    },
    {
      "cell_type": "code",
      "source": [
        "#Membership operator\n",
        "a=\"Python operators\"\n",
        "b={1:'x',2:'y'}\n",
        "print(\"P\" in a)\n",
        "print(1 in b)\n",
        "print('y' in b)"
      ],
      "metadata": {
        "colab": {
          "base_uri": "https://localhost:8080/"
        },
        "id": "8aena7jomNU5",
        "outputId": "a8874669-9eef-4a43-aed5-6c4721a49126"
      },
      "execution_count": 14,
      "outputs": [
        {
          "output_type": "stream",
          "name": "stdout",
          "text": [
            "True\n",
            "True\n",
            "False\n"
          ]
        }
      ]
    },
    {
      "cell_type": "code",
      "source": [
        "#if statement\n",
        "num=5\n",
        "if( num<10):\n",
        "  print(\"Num is smaller than 10\")"
      ],
      "metadata": {
        "colab": {
          "base_uri": "https://localhost:8080/"
        },
        "id": "J3ZNcxV9vijY",
        "outputId": "2dcd2be5-b03c-4374-f2d8-e71c133a3285"
      },
      "execution_count": 15,
      "outputs": [
        {
          "output_type": "stream",
          "name": "stdout",
          "text": [
            "Num is smaller than 10\n"
          ]
        }
      ]
    },
    {
      "cell_type": "code",
      "source": [
        "#if-else statement\n",
        "num=5\n",
        "if(num>10):\n",
        "  print(\"number is greater than 10\")\n",
        "else:\n",
        "  print(\"number is less than 10\")"
      ],
      "metadata": {
        "colab": {
          "base_uri": "https://localhost:8080/"
        },
        "id": "i7CxmngZvuom",
        "outputId": "4c446e62-5dea-45a8-cc50-4abc8868a739"
      },
      "execution_count": 16,
      "outputs": [
        {
          "output_type": "stream",
          "name": "stdout",
          "text": [
            "number is less than 10\n"
          ]
        }
      ]
    },
    {
      "cell_type": "code",
      "source": [
        "#elif statements\n",
        "num=10\n",
        "if(num==0):\n",
        "  print(\"Number is Zero\")\n",
        "elif(num>5):\n",
        "  print(\"Number is greater than 5\")\n",
        "else:\n",
        "  print(\"Number is smaller than 5\")\n",
        "  "
      ],
      "metadata": {
        "colab": {
          "base_uri": "https://localhost:8080/"
        },
        "id": "0mKcmrq_v1J_",
        "outputId": "7acbf39c-8b4b-432c-e5f4-2b823fce4caf"
      },
      "execution_count": 17,
      "outputs": [
        {
          "output_type": "stream",
          "name": "stdout",
          "text": [
            "Number is greater than 5\n"
          ]
        }
      ]
    },
    {
      "cell_type": "code",
      "source": [
        "#nested if-else statements\n",
        "num=5\n",
        "if(num>0):\n",
        "  print(\"number is positive\")\n",
        "if(num<10):\n",
        "  print(\"number is less than 10\")"
      ],
      "metadata": {
        "colab": {
          "base_uri": "https://localhost:8080/"
        },
        "id": "gKyJmQsZwCsP",
        "outputId": "8f493d48-d6f5-4c3d-ae7d-bb9521f59124"
      },
      "execution_count": 18,
      "outputs": [
        {
          "output_type": "stream",
          "name": "stdout",
          "text": [
            "number is positive\n",
            "number is less than 10\n"
          ]
        }
      ]
    },
    {
      "cell_type": "code",
      "source": [
        "#elif ladder\n",
        "my_marks=90\n",
        "if(my_marks<35):\n",
        "  print(\"Sorry!,You failed the exam\")\n",
        "elif(my_marks>60 and my_marks>100):\n",
        "  print(\"Passed in First class\")\n",
        "else:\n",
        "  print(\"Passed in First class\")"
      ],
      "metadata": {
        "colab": {
          "base_uri": "https://localhost:8080/"
        },
        "id": "NF7EfP0GwTzN",
        "outputId": "3d0af608-b1ad-438b-e647-806bd82ae9aa"
      },
      "execution_count": 19,
      "outputs": [
        {
          "output_type": "stream",
          "name": "stdout",
          "text": [
            "Passed in First class\n"
          ]
        }
      ]
    },
    {
      "cell_type": "code",
      "source": [
        "from google.colab import files\n",
        "upload = files.upload()\n",
        "\n",
        "import pandas as pd\n",
        "import pandas as np\n",
        "import matplotlib.pyplot as plt\n",
        "\n",
        "dataset = pd.read_csv('Salary_Data.csv')\n",
        "x = dataset.iloc[:,0:-1].values\n",
        "y = dataset.iloc[:,1].values\n",
        "\n",
        "from sklearn.model_selection import train_test_split\n",
        "x_train, x_test, y_train, y_test = train_test_split(x,y,test_size=.30, random_state = 0)\n",
        "\n",
        "from sklearn.linear_model import LinearRegression\n",
        "regress = LinearRegression()\n",
        "regress.fit(x_train, y_train)\n",
        "\n",
        "y_pred = regress.predict(x_test)\n",
        "\n",
        "plt.title('Simple Linear Regression')\n",
        "plt.xlabel('Experience')\n",
        "plt.ylabel('Salary')\n",
        "plt.scatter(x_train, y_train, color = 'red')\n",
        "plt.plot(x_train, regress.predict(x_train), color='blue')\n",
        "plt.show()\n",
        "\n",
        "plt.title('Simple linear Regression with Test data')\n",
        "plt.xlabel('Experience')\n",
        "plt.ylabel('Salary')\n",
        "plt.scatter(x_test, y_test, color = 'red')\n",
        "plt.plot(x_test, regress.predict(x_test), color='blue')\n",
        "plt.show()\n",
        "\n",
        "plt.title('Simple linear Regression with Test data and Train slope')\n",
        "plt.xlabel('Experience')\n",
        "plt.ylabel('Salary')\n",
        "plt.scatter(x_test, y_test, color = 'red')\n",
        "plt.plot(x_train, regress.predict(x_train), color='blue')\n",
        "plt.show()\n",
        "\n",
        "\n"
      ],
      "metadata": {
        "colab": {
          "resources": {
            "http://localhost:8080/nbextensions/google.colab/files.js": {
              "data": "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",
              "ok": true,
              "headers": [
                [
                  "content-type",
                  "application/javascript"
                ]
              ],
              "status": 200,
              "status_text": ""
            }
          },
          "base_uri": "https://localhost:8080/",
          "height": 904
        },
        "id": "zSCfjHyOwkL_",
        "outputId": "bfcb8d23-4002-4683-a240-935217b759af"
      },
      "execution_count": 21,
      "outputs": [
        {
          "output_type": "display_data",
          "data": {
            "text/plain": [
              "<IPython.core.display.HTML object>"
            ],
            "text/html": [
              "\n",
              "     <input type=\"file\" id=\"files-9c24567d-c30a-4904-82ff-9e74778c8b9a\" name=\"files[]\" multiple disabled\n",
              "        style=\"border:none\" />\n",
              "     <output id=\"result-9c24567d-c30a-4904-82ff-9e74778c8b9a\">\n",
              "      Upload widget is only available when the cell has been executed in the\n",
              "      current browser session. Please rerun this cell to enable.\n",
              "      </output>\n",
              "      <script src=\"/nbextensions/google.colab/files.js\"></script> "
            ]
          },
          "metadata": {}
        },
        {
          "output_type": "stream",
          "name": "stdout",
          "text": [
            "Saving Salary_Data.csv to Salary_Data.csv\n"
          ]
        },
        {
          "output_type": "display_data",
          "data": {
            "text/plain": [
              "<Figure size 432x288 with 1 Axes>"
            ],
            "image/png": "[encoded data removed]"
          },
          "metadata": {
            "needs_background": "light"
          }
        },
        {
          "output_type": "display_data",
          "data": {
            "text/plain": [
              "<Figure size 432x288 with 1 Axes>"
            ],
            "image/png": "[encoded data removed]"
          },
          "metadata": {
            "needs_background": "light"
          }
        },
        {
          "output_type": "display_data",
          "data": {
            "text/plain": [
              "<Figure size 432x288 with 1 Axes>"
            ],
            "image/png": "[encoded data removed]"
          },
          "metadata": {
            "needs_background": "light"
          }
        }
      ]
    }
  ]
}